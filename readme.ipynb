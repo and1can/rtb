{
 "cells": [
  {
   "cell_type": "markdown",
   "metadata": {
    "deletable": true,
    "editable": true
   },
   "source": [
    "# Real Time Bidding (RTB)\n",
    "\n",
    "This is analyses that applies real time bidding concepts to mobile datasets. \n",
    "Rtb can be divided into 8 parts. \n",
    "\n",
    "1. RTB System - an introduction to RTB system and what it does. \n",
    "2. Auction mechanisms\n",
    "3. User response estimation\n",
    "4. Learning to Bid\n",
    "5. Conversion attribution\n",
    "6. Pacing Control\n",
    "7. Targeting and audience expansion\n",
    "8. Reserve price optimization\n",
    "\n"
   ]
  },
  {
   "cell_type": "markdown",
   "metadata": {
    "deletable": true,
    "editable": true
   },
   "source": [
    "# 1. RTB System\n",
    "\n",
    "Real-Time Bidding is about advertisers buying users directly instead of buying keywords or bundle of ad views. "
   ]
  },
  {
   "cell_type": "markdown",
   "metadata": {
    "deletable": true,
    "editable": true
   },
   "source": [
    "# 2. Auction Mechanisms\n",
    "\n",
    "## Modeling\n",
    "The auction scheme works as follows. Each bidder $i$ has a private value $v_i$ known only to the bidder. $v_i$ is a bidding value that they will not exceed. If bidder $i$ wins and pays $p_i$, their utility is $v_i - p_i$. The utility is 0 when the bidder loses. Note that the bidders prefer losing than paying more than their value. \n",
    "\n",
    "## Strategy \n",
    "\n",
    "A strategy for each bidder is a function, a plan for the game. This can be modeled as a normal form game, where these strategies are pure strategies. \n",
    "\n",
    "## Strategies and Equilibrium\n",
    "\n",
    "An equilibrium in auction is profile of strategies $B_1, B_2, . . . , B_n$ such that: \n",
    "Dominant strategy equilibrium: each strategy is optimal regardless of what the other strategies are. \n",
    "Nash Equilibrium: each strategy is best response to other strategies. \n",
    "\n",
    "## 1st Price Auctions\n",
    "All bidders bid at the same time. The bidder with the highest bid wins and will pay that value\n",
    "\n",
    "## 2nd Price Auctions\n",
    "All bidders bid at the same time. The bidder with the highest bid wins and will pay the value of the second highest bid. \n",
    "\n"
   ]
  },
  {
   "cell_type": "markdown",
   "metadata": {
    "deletable": true,
    "editable": true
   },
   "source": [
    "# 3. User Response Estimation\n",
    "\n",
    "Click Through Rate is a way to predict how many users will click on a specific ad. This is useful for bidders in real time bidding because this is a way to choose which ads to enter bidding process for. \n",
    "\n",
    "# Linear Models\n",
    "\n",
    "Pros: \n",
    "1) highly efficient and scalable\n",
    "2) explore larger feature space and training data\n",
    "\n",
    "Cons: \n",
    "1) Modelling limit: feature independence assumption\n",
    "2) cannot capture feature interactions unless defining high order combination features\n",
    "\n",
    "# Non-linear Models\n",
    "\n",
    "Factorisation machines, gradient boosting decision trees, combined models, deep neural networks. "
   ]
  },
  {
   "cell_type": "markdown",
   "metadata": {
    "deletable": true,
    "editable": true
   },
   "source": [
    "# 4. Learning to Bid \n",
    "\n",
    "Linear Models and Non Linear Models can be used to learn to bid. Each have their own trade-offs. "
   ]
  },
  {
   "cell_type": "markdown",
   "metadata": {
    "deletable": true,
    "editable": true
   },
   "source": [
    "# 5. Conversion Attribution \n",
    "\n",
    "Looks at conversions by comparing results from display, search, social, email, affiliate, and offline channels. Still need to understand how this is important for Real Time Bidding"
   ]
  },
  {
   "cell_type": "markdown",
   "metadata": {
    "deletable": true,
    "editable": true
   },
   "source": [
    "# 6. Pacing Control\n",
    "\n",
    "Bidders need to know how to bid to stay within their budget. Pacing control can help bidders know when it is optimal to continue bidding, change bidding strategy, or altogether stop bidding. "
   ]
  },
  {
   "cell_type": "markdown",
   "metadata": {
    "deletable": true,
    "editable": true
   },
   "source": [
    "# 7. Targeting and Audience Expansion\n",
    "\n",
    "We can use user segmentation to do targeting. Segment on Long-term Page-view, Short-term Page-view, Long-term Query, or Short-term Query. However, the issue is that different user segmentation algorithms may have different results. Namely, Cluto, K-means, and MinHash can have different results. "
   ]
  },
  {
   "cell_type": "markdown",
   "metadata": {
    "deletable": true,
    "editable": true
   },
   "source": [
    "# 8. Reserve Price Optimization \n",
    "\n",
    "Reserve price is a dollar amount created by the auctioner that is the minimum that any bidder can bid. This is truly a powerful topic to study in RTB for auctioner because if the reserve price is too high and no one will bid and if the reserve price is too low, the auctioner may not get as high of a profit as the auctioner could have. "
   ]
  },
  {
   "cell_type": "code",
   "execution_count": null,
   "metadata": {
    "collapsed": true,
    "deletable": true,
    "editable": true
   },
   "outputs": [],
   "source": []
  }
 ],
 "metadata": {
  "kernelspec": {
   "display_name": "Python 3",
   "language": "python",
   "name": "python3"
  },
  "language_info": {
   "codemirror_mode": {
    "name": "ipython",
    "version": 3
   },
   "file_extension": ".py",
   "mimetype": "text/x-python",
   "name": "python",
   "nbconvert_exporter": "python",
   "pygments_lexer": "ipython3",
   "version": "3.5.0"
  }
 },
 "nbformat": 4,
 "nbformat_minor": 2
}
